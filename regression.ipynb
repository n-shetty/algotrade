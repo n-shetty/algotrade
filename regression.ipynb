{
 "cells": [
  {
   "cell_type": "code",
   "execution_count": 55,
   "metadata": {
    "collapsed": false
   },
   "outputs": [],
   "source": [
    "import pandas as pd \n",
    "import time as time\n",
    "import matplotlib.pyplot as plt\n",
    "%matplotlib inline"
   ]
  },
  {
   "cell_type": "code",
   "execution_count": 56,
   "metadata": {
    "collapsed": false
   },
   "outputs": [],
   "source": [
    "days = 2 # ticks from the last X days\n",
    "pair = \"USDT_BTC\"\n",
    "interval = 'H' # resampling interval"
   ]
  },
  {
   "cell_type": "code",
   "execution_count": 57,
   "metadata": {
    "collapsed": false
   },
   "outputs": [],
   "source": [
    "data = pd.DataFrame()\n",
    "for day in range(days):\n",
    "    start = str(time.time() -86400*(days -day))\n",
    "    end = str(time.time() -86400*(days -day-1))\n",
    "    json_file = pd.read_json(\"https://poloniex.com/public?command=returnTradeHistory&currencyPair=\"+pair+\"&start=\"+start+\"&end=\"+end)\n",
    "    data = data.append(json_file)"
   ]
  },
  {
   "cell_type": "code",
   "execution_count": 58,
   "metadata": {
    "collapsed": false
   },
   "outputs": [
    {
     "data": {
      "text/html": [
       "<div>\n",
       "<table border=\"1\" class=\"dataframe\">\n",
       "  <thead>\n",
       "    <tr style=\"text-align: right;\">\n",
       "      <th></th>\n",
       "      <th>amount</th>\n",
       "      <th>globalTradeID</th>\n",
       "      <th>rate</th>\n",
       "      <th>total</th>\n",
       "      <th>tradeID</th>\n",
       "    </tr>\n",
       "  </thead>\n",
       "  <tbody>\n",
       "    <tr>\n",
       "      <th>count</th>\n",
       "      <td>7.114200e+04</td>\n",
       "      <td>7.114200e+04</td>\n",
       "      <td>71142.000000</td>\n",
       "      <td>71142.000000</td>\n",
       "      <td>7.114200e+04</td>\n",
       "    </tr>\n",
       "    <tr>\n",
       "      <th>mean</th>\n",
       "      <td>1.973619e-01</td>\n",
       "      <td>2.372010e+08</td>\n",
       "      <td>4160.947481</td>\n",
       "      <td>820.509202</td>\n",
       "      <td>8.986584e+06</td>\n",
       "    </tr>\n",
       "    <tr>\n",
       "      <th>std</th>\n",
       "      <td>5.275145e-01</td>\n",
       "      <td>2.810078e+05</td>\n",
       "      <td>59.757769</td>\n",
       "      <td>2189.876082</td>\n",
       "      <td>2.053707e+04</td>\n",
       "    </tr>\n",
       "    <tr>\n",
       "      <th>min</th>\n",
       "      <td>1.000000e-08</td>\n",
       "      <td>2.367117e+08</td>\n",
       "      <td>4010.100000</td>\n",
       "      <td>0.000041</td>\n",
       "      <td>8.951013e+06</td>\n",
       "    </tr>\n",
       "    <tr>\n",
       "      <th>25%</th>\n",
       "      <td>2.000000e-03</td>\n",
       "      <td>2.369417e+08</td>\n",
       "      <td>4111.720697</td>\n",
       "      <td>8.140062</td>\n",
       "      <td>8.968798e+06</td>\n",
       "    </tr>\n",
       "    <tr>\n",
       "      <th>50%</th>\n",
       "      <td>3.885936e-02</td>\n",
       "      <td>2.372027e+08</td>\n",
       "      <td>4173.623433</td>\n",
       "      <td>161.915888</td>\n",
       "      <td>8.986584e+06</td>\n",
       "    </tr>\n",
       "    <tr>\n",
       "      <th>75%</th>\n",
       "      <td>1.870906e-01</td>\n",
       "      <td>2.374629e+08</td>\n",
       "      <td>4201.951172</td>\n",
       "      <td>778.505196</td>\n",
       "      <td>9.004369e+06</td>\n",
       "    </tr>\n",
       "    <tr>\n",
       "      <th>max</th>\n",
       "      <td>2.452865e+01</td>\n",
       "      <td>2.376523e+08</td>\n",
       "      <td>4278.000000</td>\n",
       "      <td>104246.768110</td>\n",
       "      <td>9.022154e+06</td>\n",
       "    </tr>\n",
       "  </tbody>\n",
       "</table>\n",
       "</div>"
      ],
      "text/plain": [
       "             amount  globalTradeID          rate          total       tradeID\n",
       "count  7.114200e+04   7.114200e+04  71142.000000   71142.000000  7.114200e+04\n",
       "mean   1.973619e-01   2.372010e+08   4160.947481     820.509202  8.986584e+06\n",
       "std    5.275145e-01   2.810078e+05     59.757769    2189.876082  2.053707e+04\n",
       "min    1.000000e-08   2.367117e+08   4010.100000       0.000041  8.951013e+06\n",
       "25%    2.000000e-03   2.369417e+08   4111.720697       8.140062  8.968798e+06\n",
       "50%    3.885936e-02   2.372027e+08   4173.623433     161.915888  8.986584e+06\n",
       "75%    1.870906e-01   2.374629e+08   4201.951172     778.505196  9.004369e+06\n",
       "max    2.452865e+01   2.376523e+08   4278.000000  104246.768110  9.022154e+06"
      ]
     },
     "execution_count": 58,
     "metadata": {},
     "output_type": "execute_result"
    }
   ],
   "source": [
    "data.set_index('date', inplace=True)\n",
    "data.describe()"
   ]
  },
  {
   "cell_type": "code",
   "execution_count": 59,
   "metadata": {
    "collapsed": false
   },
   "outputs": [],
   "source": [
    "ohlc = data['rate'].resample(interval).agg({'open': 'first', \n",
    "                                         'high': 'max', \n",
    "                                         'low': 'min', \n",
    "                                         'close': 'last'})"
   ]
  },
  {
   "cell_type": "code",
   "execution_count": 60,
   "metadata": {
    "collapsed": false
   },
   "outputs": [
    {
     "name": "stdout",
     "output_type": "stream",
     "text": [
      "                            high        close     open          low\n",
      "date                                                               \n",
      "2017-09-29 09:00:00  4132.600000  4104.826351  4118.14  4088.000000\n",
      "2017-09-29 10:00:00  4172.760666  4169.990000  4103.85  4086.700000\n",
      "2017-09-29 11:00:00  4222.800000  4205.990000  4167.28  4125.100000\n",
      "2017-09-29 12:00:00  4245.000000  4230.147500  4209.00  4185.187656\n",
      "2017-09-29 13:00:00  4236.000000  4175.000000  4236.00  4170.573564\n"
     ]
    }
   ],
   "source": [
    "print ohlc.tail()"
   ]
  },
  {
   "cell_type": "code",
   "execution_count": 61,
   "metadata": {
    "collapsed": false
   },
   "outputs": [
    {
     "name": "stdout",
     "output_type": "stream",
     "text": [
      "date\n",
      "2017-09-29 09:00:00    135.169696\n",
      "2017-09-29 10:00:00    247.669540\n",
      "2017-09-29 11:00:00    358.570426\n",
      "2017-09-29 12:00:00    335.611011\n",
      "2017-09-29 13:00:00    200.419938\n",
      "Freq: H, Name: amount, dtype: float64\n"
     ]
    }
   ],
   "source": [
    "volume = data['amount'].resample(interval).sum()\n",
    "print volume.tail()"
   ]
  },
  {
   "cell_type": "code",
   "execution_count": 62,
   "metadata": {
    "collapsed": false
   },
   "outputs": [
    {
     "name": "stdout",
     "output_type": "stream",
     "text": [
      "date\n",
      "2017-09-27 13:00:00   -1.750000e+01\n",
      "2017-09-27 14:00:00    5.350000e+01\n",
      "2017-09-27 15:00:00   -3.200000e+01\n",
      "2017-09-27 16:00:00    1.500000e+01\n",
      "2017-09-27 17:00:00    3.000000e+00\n",
      "2017-09-27 18:00:00    8.890000e+01\n",
      "2017-09-27 19:00:00    1.289990e+01\n",
      "2017-09-27 20:00:00   -4.200014e+01\n",
      "2017-09-27 21:00:00    5.000000e+01\n",
      "2017-09-27 22:00:00   -2.999968e-08\n",
      "2017-09-27 23:00:00   -1.787099e+00\n",
      "2017-09-28 00:00:00   -3.200850e+01\n",
      "2017-09-28 01:00:00    2.839818e+00\n",
      "2017-09-28 02:00:00   -7.000000e+00\n",
      "2017-09-28 03:00:00    3.435300e+01\n",
      "2017-09-28 04:00:00    6.718472e+01\n",
      "2017-09-28 05:00:00   -2.929100e+01\n",
      "2017-09-28 06:00:00    8.867003e+00\n",
      "2017-09-28 07:00:00   -2.024538e+01\n",
      "2017-09-28 08:00:00    3.655800e+01\n",
      "2017-09-28 09:00:00    7.000001e-01\n",
      "2017-09-28 10:00:00   -1.040950e+02\n",
      "2017-09-28 11:00:00    2.500001e+01\n",
      "2017-09-28 12:00:00    2.299999e+01\n",
      "2017-09-28 13:00:00   -2.099300e+01\n",
      "2017-09-28 14:00:00   -4.439485e+01\n",
      "2017-09-28 15:00:00    6.280600e+00\n",
      "2017-09-28 16:00:00    2.450000e+01\n",
      "2017-09-28 17:00:00    2.100000e+01\n",
      "2017-09-28 18:00:00   -2.800000e+01\n",
      "2017-09-28 19:00:00    3.348300e+00\n",
      "2017-09-28 20:00:00    1.978170e+01\n",
      "2017-09-28 21:00:00    2.495770e+01\n",
      "2017-09-28 22:00:00   -1.482020e+01\n",
      "2017-09-28 23:00:00    1.372689e+01\n",
      "2017-09-29 00:00:00    9.621602e+00\n",
      "2017-09-29 01:00:00   -2.941240e+01\n",
      "2017-09-29 02:00:00   -8.575000e+01\n",
      "2017-09-29 03:00:00   -1.210664e+01\n",
      "2017-09-29 04:00:00    4.592134e+01\n",
      "2017-09-29 05:00:00   -5.326709e+01\n",
      "2017-09-29 06:00:00    3.143749e+01\n",
      "2017-09-29 07:00:00    3.374000e+01\n",
      "2017-09-29 08:00:00    2.414000e+01\n",
      "2017-09-29 09:00:00   -1.331365e+01\n",
      "2017-09-29 10:00:00    6.614000e+01\n",
      "2017-09-29 11:00:00    3.871000e+01\n",
      "2017-09-29 12:00:00    2.114750e+01\n",
      "2017-09-29 13:00:00   -6.100000e+01\n",
      "Freq: H, dtype: float64\n"
     ]
    }
   ],
   "source": [
    "pips = ohlc['close'] - ohlc['open']\n",
    "print pips"
   ]
  },
  {
   "cell_type": "code",
   "execution_count": 63,
   "metadata": {
    "collapsed": false
   },
   "outputs": [],
   "source": [
    "pips = pips.shift(-1) # use as target given the previous day's ohlc and volume"
   ]
  },
  {
   "cell_type": "code",
   "execution_count": 64,
   "metadata": {
    "collapsed": false
   },
   "outputs": [
    {
     "data": {
      "text/plain": [
       "<matplotlib.legend.Legend at 0x7f74f05e1dd0>"
      ]
     },
     "execution_count": 64,
     "metadata": {},
     "output_type": "execute_result"
    },
    {
     "data": {
      "image/png": "[encoded data removed]",
      "text/plain": [
       "<matplotlib.figure.Figure at 0x7f74cbf2d3d0>"
      ]
     },
     "metadata": {},
     "output_type": "display_data"
    }
   ],
   "source": [
    "data['rate'].plot(label='tick')\n",
    "ohlc['close'].plot(marker='*',label=interval)\n",
    "plt.legend()"
   ]
  },
  {
   "cell_type": "code",
   "execution_count": 65,
   "metadata": {
    "collapsed": true
   },
   "outputs": [],
   "source": [
    "features = pd.concat([ohlc, volume], axis=1)"
   ]
  },
  {
   "cell_type": "code",
   "execution_count": 66,
   "metadata": {
    "collapsed": false
   },
   "outputs": [
    {
     "data": {
      "text/html": [
       "<div>\n",
       "<table border=\"1\" class=\"dataframe\">\n",
       "  <thead>\n",
       "    <tr style=\"text-align: right;\">\n",
       "      <th></th>\n",
       "      <th>high</th>\n",
       "      <th>close</th>\n",
       "      <th>open</th>\n",
       "      <th>low</th>\n",
       "      <th>amount</th>\n",
       "    </tr>\n",
       "  </thead>\n",
       "  <tbody>\n",
       "    <tr>\n",
       "      <th>count</th>\n",
       "      <td>49.000000</td>\n",
       "      <td>49.000000</td>\n",
       "      <td>49.000000</td>\n",
       "      <td>49.000000</td>\n",
       "      <td>49.000000</td>\n",
       "    </tr>\n",
       "    <tr>\n",
       "      <th>mean</th>\n",
       "      <td>4187.341913</td>\n",
       "      <td>4162.526960</td>\n",
       "      <td>4159.317356</td>\n",
       "      <td>4134.934825</td>\n",
       "      <td>286.545253</td>\n",
       "    </tr>\n",
       "    <tr>\n",
       "      <th>std</th>\n",
       "      <td>54.872399</td>\n",
       "      <td>58.407300</td>\n",
       "      <td>60.252192</td>\n",
       "      <td>58.537072</td>\n",
       "      <td>170.198672</td>\n",
       "    </tr>\n",
       "    <tr>\n",
       "      <th>min</th>\n",
       "      <td>4062.760000</td>\n",
       "      <td>4030.000000</td>\n",
       "      <td>4031.322507</td>\n",
       "      <td>4010.100000</td>\n",
       "      <td>65.670569</td>\n",
       "    </tr>\n",
       "    <tr>\n",
       "      <th>25%</th>\n",
       "      <td>4159.807289</td>\n",
       "      <td>4118.210000</td>\n",
       "      <td>4114.000000</td>\n",
       "      <td>4086.700000</td>\n",
       "      <td>168.620624</td>\n",
       "    </tr>\n",
       "    <tr>\n",
       "      <th>50%</th>\n",
       "      <td>4199.990000</td>\n",
       "      <td>4174.000000</td>\n",
       "      <td>4174.000000</td>\n",
       "      <td>4151.000000</td>\n",
       "      <td>235.836415</td>\n",
       "    </tr>\n",
       "    <tr>\n",
       "      <th>75%</th>\n",
       "      <td>4220.000000</td>\n",
       "      <td>4204.212901</td>\n",
       "      <td>4195.900000</td>\n",
       "      <td>4170.573564</td>\n",
       "      <td>338.331968</td>\n",
       "    </tr>\n",
       "    <tr>\n",
       "      <th>max</th>\n",
       "      <td>4278.000000</td>\n",
       "      <td>4263.000000</td>\n",
       "      <td>4266.094979</td>\n",
       "      <td>4240.000000</td>\n",
       "      <td>758.570510</td>\n",
       "    </tr>\n",
       "  </tbody>\n",
       "</table>\n",
       "</div>"
      ],
      "text/plain": [
       "              high        close         open          low      amount\n",
       "count    49.000000    49.000000    49.000000    49.000000   49.000000\n",
       "mean   4187.341913  4162.526960  4159.317356  4134.934825  286.545253\n",
       "std      54.872399    58.407300    60.252192    58.537072  170.198672\n",
       "min    4062.760000  4030.000000  4031.322507  4010.100000   65.670569\n",
       "25%    4159.807289  4118.210000  4114.000000  4086.700000  168.620624\n",
       "50%    4199.990000  4174.000000  4174.000000  4151.000000  235.836415\n",
       "75%    4220.000000  4204.212901  4195.900000  4170.573564  338.331968\n",
       "max    4278.000000  4263.000000  4266.094979  4240.000000  758.570510"
      ]
     },
     "execution_count": 66,
     "metadata": {},
     "output_type": "execute_result"
    }
   ],
   "source": [
    "features.describe()"
   ]
  },
  {
   "cell_type": "code",
   "execution_count": 67,
   "metadata": {
    "collapsed": false
   },
   "outputs": [
    {
     "data": {
      "text/plain": [
       "count     48.000000\n",
       "mean       3.641055\n",
       "std       38.401730\n",
       "min     -104.094979\n",
       "25%      -20.432285\n",
       "50%        7.573801\n",
       "75%       24.968278\n",
       "max       88.900000\n",
       "dtype: float64"
      ]
     },
     "execution_count": 67,
     "metadata": {},
     "output_type": "execute_result"
    }
   ],
   "source": [
    "target = pips\n",
    "target.describe()"
   ]
  },
  {
   "cell_type": "code",
   "execution_count": 68,
   "metadata": {
    "collapsed": false
   },
   "outputs": [],
   "source": [
    "# remove info of the last interval, as there is no target\n",
    "features = features[:-1]\n",
    "target = target[:-1]"
   ]
  },
  {
   "cell_type": "code",
   "execution_count": null,
   "metadata": {
    "collapsed": true
   },
   "outputs": [],
   "source": []
  },
  {
   "cell_type": "code",
   "execution_count": null,
   "metadata": {
    "collapsed": true
   },
   "outputs": [],
   "source": []
  },
  {
   "cell_type": "markdown",
   "metadata": {},
   "source": [
    "# Machine Learning"
   ]
  },
  {
   "cell_type": "code",
   "execution_count": 69,
   "metadata": {
    "collapsed": false
   },
   "outputs": [],
   "source": [
    "import numpy as np\n",
    "from sklearn.neural_network import MLPRegressor\n",
    "from sklearn.cross_validation import train_test_split\n",
    "from sklearn.preprocessing import StandardScaler "
   ]
  },
  {
   "cell_type": "code",
   "execution_count": 70,
   "metadata": {
    "collapsed": false
   },
   "outputs": [
    {
     "data": {
      "text/plain": [
       "high      0\n",
       "close     0\n",
       "open      0\n",
       "low       0\n",
       "amount    0\n",
       "0         0\n",
       "dtype: int64"
      ]
     },
     "execution_count": 70,
     "metadata": {},
     "output_type": "execute_result"
    }
   ],
   "source": [
    "dataset = pd.concat([features, target], axis=1)\n",
    "dataset.dropna(inplace=True)\n",
    "dataset.isnull().sum()"
   ]
  },
  {
   "cell_type": "code",
   "execution_count": 71,
   "metadata": {
    "collapsed": false
   },
   "outputs": [],
   "source": [
    "dataset = dataset.as_matrix()"
   ]
  },
  {
   "cell_type": "code",
   "execution_count": 72,
   "metadata": {
    "collapsed": false
   },
   "outputs": [],
   "source": [
    "train, test = train_test_split(dataset, train_size = 0.8)\n",
    "X_train = train[:,0:-1]\n",
    "Y_train = train[:,-1]\n",
    "X_test = test[:,0:-1]\n",
    "Y_test = test[:,-1]"
   ]
  },
  {
   "cell_type": "code",
   "execution_count": 73,
   "metadata": {
    "collapsed": false
   },
   "outputs": [
    {
     "name": "stdout",
     "output_type": "stream",
     "text": [
      "[array([ 4215.10989997,  4164.58759549,  4194.00000021,  4151.00000001,\n",
      "         235.83641523]), array([ 4115.0625    ,  4096.49999502,  4062.7599999 ,  4055.84546024,\n",
      "         320.09863881]), -85.75000011999964, 24.139999989999978]\n"
     ]
    }
   ],
   "source": [
    "print [X_train[0], X_test[0], Y_train[0], Y_test[0]]"
   ]
  },
  {
   "cell_type": "code",
   "execution_count": 74,
   "metadata": {
    "collapsed": false
   },
   "outputs": [],
   "source": [
    "# standardizing to 0 mean and var = 1 \n",
    "scaler = StandardScaler()  \n",
    "scaler.fit(X_train)  \n",
    "X_train = scaler.transform(X_train)  \n",
    "X_test = scaler.transform(X_test)"
   ]
  },
  {
   "cell_type": "code",
   "execution_count": 75,
   "metadata": {
    "collapsed": false
   },
   "outputs": [
    {
     "name": "stdout",
     "output_type": "stream",
     "text": [
      "Iteration 1, loss = 874.57664235\n",
      "Iteration 2, loss = 861.79839599\n",
      "Iteration 3, loss = 849.61681818\n",
      "Iteration 4, loss = 833.06928962\n",
      "Iteration 5, loss = 811.82755249\n",
      "Iteration 6, loss = 787.31502689\n",
      "Iteration 7, loss = 768.94163357\n",
      "Iteration 8, loss = 763.18455864\n",
      "Iteration 9, loss = 751.68644933\n",
      "Iteration 10, loss = 733.05920299\n",
      "Iteration 11, loss = 722.23401449\n",
      "Iteration 12, loss = 715.58938769\n",
      "Iteration 13, loss = 699.39245788\n",
      "Iteration 14, loss = 680.66340939\n",
      "Iteration 15, loss = 668.21701554\n",
      "Iteration 16, loss = 650.80559483\n",
      "Iteration 17, loss = 631.81524010\n",
      "Iteration 18, loss = 622.06501894\n",
      "Iteration 19, loss = 615.56338498\n",
      "Iteration 20, loss = 610.61103276\n",
      "Iteration 21, loss = 608.42895078\n",
      "Iteration 22, loss = 600.73000452\n",
      "Iteration 23, loss = 588.54751899\n",
      "Iteration 24, loss = 575.27810241\n",
      "Iteration 25, loss = 561.32159229\n",
      "Iteration 26, loss = 547.56580966\n",
      "Iteration 27, loss = 537.49546839\n",
      "Iteration 28, loss = 533.80415946\n",
      "Iteration 29, loss = 529.46042447\n",
      "Iteration 30, loss = 517.34480422\n",
      "Iteration 31, loss = 503.89334714\n",
      "Iteration 32, loss = 490.02915450\n",
      "Iteration 33, loss = 482.56444831\n",
      "Iteration 34, loss = 475.11741580\n",
      "Iteration 35, loss = 468.03091813\n",
      "Iteration 36, loss = 454.77112666\n",
      "Iteration 37, loss = 444.27090705\n",
      "Iteration 38, loss = 437.86791936\n",
      "Iteration 39, loss = 427.73149080\n",
      "Iteration 40, loss = 412.49899091\n",
      "Iteration 41, loss = 407.51865190\n",
      "Iteration 42, loss = 399.54982203\n",
      "Iteration 43, loss = 394.10430072\n",
      "Iteration 44, loss = 390.19983205\n",
      "Iteration 45, loss = 385.90327955\n",
      "Iteration 46, loss = 376.58310470\n",
      "Iteration 47, loss = 363.12239173\n",
      "Iteration 48, loss = 362.18659322\n",
      "Iteration 49, loss = 355.77584714\n",
      "Iteration 50, loss = 344.97108946\n",
      "Iteration 51, loss = 336.73447553\n",
      "Iteration 52, loss = 336.38285716\n",
      "Iteration 53, loss = 327.89020565\n",
      "Iteration 54, loss = 314.54050074\n",
      "Iteration 55, loss = 310.03957138\n",
      "Iteration 56, loss = 304.42346529\n",
      "Iteration 57, loss = 300.46222592\n",
      "Iteration 58, loss = 294.10892312\n",
      "Iteration 59, loss = 276.15441536\n",
      "Iteration 60, loss = 273.66035583\n",
      "Iteration 61, loss = 276.49564398\n",
      "Iteration 62, loss = 281.27185518\n",
      "Iteration 63, loss = 256.89297779\n",
      "Iteration 64, loss = 243.24668305\n",
      "Iteration 65, loss = 248.07419002\n",
      "Iteration 66, loss = 251.43417242\n",
      "Iteration 67, loss = 231.47598425\n",
      "Iteration 68, loss = 220.67016152\n",
      "Iteration 69, loss = 229.36785735\n",
      "Iteration 70, loss = 228.13837055\n",
      "Iteration 71, loss = 199.35250526\n",
      "Iteration 72, loss = 222.19293089\n",
      "Iteration 73, loss = 243.55038495\n",
      "Iteration 74, loss = 197.36737167\n",
      "Iteration 75, loss = 192.57482142\n",
      "Iteration 76, loss = 218.88476224\n",
      "Iteration 77, loss = 185.79246411\n",
      "Iteration 78, loss = 205.19037741\n",
      "Iteration 79, loss = 200.85915735\n",
      "Iteration 80, loss = 184.09626761\n",
      "Iteration 81, loss = 206.76566288\n",
      "Iteration 82, loss = 170.39349288\n",
      "Iteration 83, loss = 187.44122572\n",
      "Iteration 84, loss = 174.12185086\n",
      "Iteration 85, loss = 167.47923959\n",
      "Iteration 86, loss = 181.22714722\n",
      "Iteration 87, loss = 158.36758130\n",
      "Iteration 88, loss = 172.13149034\n",
      "Iteration 89, loss = 152.93422694\n",
      "Iteration 90, loss = 166.03145221\n",
      "Iteration 91, loss = 146.05247100\n",
      "Iteration 92, loss = 160.50487505\n",
      "Iteration 93, loss = 155.67621088\n",
      "Iteration 94, loss = 147.31620375\n",
      "Training loss did not improve more than tol=0.000100 for two consecutive epochs. Stopping.\n",
      "Training set score: 0.826424\n",
      "Test set score: -0.755420\n"
     ]
    }
   ],
   "source": [
    "mlp = MLPRegressor(hidden_layer_sizes=(10,10), max_iter=100, alpha=1e-4,\n",
    "                   verbose=10, tol=1e-4, random_state=1,\n",
    "                    learning_rate_init=.1)\n",
    "\n",
    "mlp.fit(X_train, Y_train)\n",
    "print(\"Training set score: %f\" % mlp.score(X_train, Y_train))\n",
    "print(\"Test set score: %f\" % mlp.score(X_test, Y_test))"
   ]
  },
  {
   "cell_type": "code",
   "execution_count": null,
   "metadata": {
    "collapsed": true
   },
   "outputs": [],
   "source": []
  },
  {
   "cell_type": "code",
   "execution_count": null,
   "metadata": {
    "collapsed": true
   },
   "outputs": [],
   "source": []
  }
 ],
 "metadata": {
  "kernelspec": {
   "display_name": "Python 2",
   "language": "python",
   "name": "python2"
  },
  "language_info": {
   "codemirror_mode": {
    "name": "ipython",
    "version": 2
   },
   "file_extension": ".py",
   "mimetype": "text/x-python",
   "name": "python",
   "nbconvert_exporter": "python",
   "pygments_lexer": "ipython2",
   "version": "2.7.13"
  }
 },
 "nbformat": 4,
 "nbformat_minor": 1
}
